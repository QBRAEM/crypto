{
 "cells": [
  {
   "cell_type": "markdown",
   "id": "0a3f22f1",
   "metadata": {},
   "source": [
    "# Projet data - alternative au stage de fin de formation"
   ]
  },
  {
   "cell_type": "markdown",
   "id": "15eecca8",
   "metadata": {},
   "source": [
    "## G-Research Crypto Forecasting"
   ]
  },
  {
   "cell_type": "markdown",
   "id": "4735db8e",
   "metadata": {},
   "source": [
    "https://www.kaggle.com/c/g-research-crypto-forecasting"
   ]
  },
  {
   "cell_type": "markdown",
   "id": "0c3031cd",
   "metadata": {},
   "source": [
    "<img src=\"crypto.png\"/>"
   ]
  },
  {
   "cell_type": "markdown",
   "id": "6346924a",
   "metadata": {},
   "source": [
    "### Description des données"
   ]
  },
  {
   "cell_type": "markdown",
   "id": "fec0f910",
   "metadata": {},
   "source": [
    "**`train.csv`**<br>\n",
    "Le jeu de données d'entrainement.\n",
    "- `timestamp`: Le timestamp de la ligne courante. Chaque timestamp correspond à une minute précise.\n",
    "- `Asset_ID`: L'identifiant de la crypto-monnaie.\n",
    "- `Count`: Le nombre d'opérations survenues dans la minute.\n",
    "- `Open`: Le prix en USD au début de la minute.\n",
    "- `High`: Le prix le plus haut en USD atteint durant la minute.\n",
    "- `Low`: Le prix le plus bas en USD atteint durant la minute.\n",
    "- `Close`: Le prix en USD à la fin de la minute.\n",
    "- `Volume`: Le nombre d'unités échangées dans la minute.\n",
    "- `VWAP`: Le prix moyen pondéré en fonction du volume pour la minute courante.\n",
    "- `Target`: Le rendement résiduel sur les 15 dernières minutes.\n",
    "\n",
    "**`example_test.csv`**<br>\n",
    "Un exemple de jeu de données de test.\n",
    "\n",
    "**`example_sample_submission.csv`**<br>\n",
    "Un échantillon de `train.csv`.\n",
    "\n",
    "**`asset_details.csv`**<br>\n",
    "Contient le nom des crypto-monnaies et leur poids en fonction de leur identifiant (`Asset_ID`)."
   ]
  },
  {
   "cell_type": "markdown",
   "id": "7bc38198",
   "metadata": {
    "ExecuteTime": {
     "end_time": "2022-01-13T13:04:15.209703Z",
     "start_time": "2022-01-13T13:04:15.203707Z"
    }
   },
   "source": [
    "### Métrique d'évaluation"
   ]
  },
  {
   "cell_type": "markdown",
   "id": "4a773ed6",
   "metadata": {},
   "source": [
    "Il s'agit d'une **corrélation pondérée**."
   ]
  },
  {
   "cell_type": "code",
   "execution_count": 116,
   "id": "ca11346b",
   "metadata": {
    "ExecuteTime": {
     "end_time": "2022-01-13T14:36:27.706028Z",
     "start_time": "2022-01-13T14:36:27.697020Z"
    }
   },
   "outputs": [],
   "source": [
    "def weighted_correlation(expected, predicted, weights):\n",
    "    weights = np.ravel(weights)\n",
    "    expected = np.ravel(expected)\n",
    "    predicted = np.ravel(predicted)\n",
    "    sum_weights = np.sum(weights)\n",
    "    mean_expected = np.sum(expected * weights) / sum_weights\n",
    "    mean_predicted = np.sum(predicted * weights) / sum_weights\n",
    "    var_expected = np.sum(weights * np.square(expected - mean_expected)) / sum_weights\n",
    "    var_predicted = np.sum(weights * np.square(predicted - mean_predicted)) / sum_weights\n",
    "    cov = np.sum((expected * predicted * weights)) / np.sum(weights) - mean_expected * mean_predicted\n",
    "    corr = cov / np.sqrt(var_expected * var_predicted)\n",
    "    return corr"
   ]
  },
  {
   "cell_type": "markdown",
   "id": "9fbb25aa",
   "metadata": {
    "ExecuteTime": {
     "end_time": "2022-01-13T13:14:22.678020Z",
     "start_time": "2022-01-13T13:14:22.661020Z"
    }
   },
   "source": [
    "### Exploration des données"
   ]
  },
  {
   "cell_type": "code",
   "execution_count": 47,
   "id": "64f37995",
   "metadata": {
    "ExecuteTime": {
     "end_time": "2022-01-13T13:48:40.970696Z",
     "start_time": "2022-01-13T13:48:40.244550Z"
    }
   },
   "outputs": [],
   "source": [
    "import numpy as np\n",
    "import pandas as pd\n",
    "import matplotlib.pyplot as plt\n",
    "import seaborn as sns\n",
    "%matplotlib inline"
   ]
  },
  {
   "cell_type": "markdown",
   "id": "902d4d92",
   "metadata": {
    "ExecuteTime": {
     "end_time": "2022-01-13T13:16:15.039245Z",
     "start_time": "2022-01-13T13:16:15.021248Z"
    }
   },
   "source": [
    "#### Assets"
   ]
  },
  {
   "cell_type": "code",
   "execution_count": 48,
   "id": "6862d284",
   "metadata": {
    "ExecuteTime": {
     "end_time": "2022-01-13T13:49:04.327480Z",
     "start_time": "2022-01-13T13:49:04.305444Z"
    }
   },
   "outputs": [
    {
     "data": {
      "text/html": [
       "<div>\n",
       "<style scoped>\n",
       "    .dataframe tbody tr th:only-of-type {\n",
       "        vertical-align: middle;\n",
       "    }\n",
       "\n",
       "    .dataframe tbody tr th {\n",
       "        vertical-align: top;\n",
       "    }\n",
       "\n",
       "    .dataframe thead th {\n",
       "        text-align: right;\n",
       "    }\n",
       "</style>\n",
       "<table border=\"1\" class=\"dataframe\">\n",
       "  <thead>\n",
       "    <tr style=\"text-align: right;\">\n",
       "      <th></th>\n",
       "      <th>Asset_ID</th>\n",
       "      <th>Weight</th>\n",
       "      <th>Asset_Name</th>\n",
       "    </tr>\n",
       "  </thead>\n",
       "  <tbody>\n",
       "    <tr>\n",
       "      <th>0</th>\n",
       "      <td>2</td>\n",
       "      <td>2.397895</td>\n",
       "      <td>Bitcoin Cash</td>\n",
       "    </tr>\n",
       "    <tr>\n",
       "      <th>1</th>\n",
       "      <td>0</td>\n",
       "      <td>4.304065</td>\n",
       "      <td>Binance Coin</td>\n",
       "    </tr>\n",
       "    <tr>\n",
       "      <th>2</th>\n",
       "      <td>1</td>\n",
       "      <td>6.779922</td>\n",
       "      <td>Bitcoin</td>\n",
       "    </tr>\n",
       "    <tr>\n",
       "      <th>3</th>\n",
       "      <td>5</td>\n",
       "      <td>1.386294</td>\n",
       "      <td>EOS.IO</td>\n",
       "    </tr>\n",
       "    <tr>\n",
       "      <th>4</th>\n",
       "      <td>7</td>\n",
       "      <td>2.079442</td>\n",
       "      <td>Ethereum Classic</td>\n",
       "    </tr>\n",
       "    <tr>\n",
       "      <th>5</th>\n",
       "      <td>6</td>\n",
       "      <td>5.894403</td>\n",
       "      <td>Ethereum</td>\n",
       "    </tr>\n",
       "    <tr>\n",
       "      <th>6</th>\n",
       "      <td>9</td>\n",
       "      <td>2.397895</td>\n",
       "      <td>Litecoin</td>\n",
       "    </tr>\n",
       "    <tr>\n",
       "      <th>7</th>\n",
       "      <td>11</td>\n",
       "      <td>1.609438</td>\n",
       "      <td>Monero</td>\n",
       "    </tr>\n",
       "    <tr>\n",
       "      <th>8</th>\n",
       "      <td>13</td>\n",
       "      <td>1.791759</td>\n",
       "      <td>TRON</td>\n",
       "    </tr>\n",
       "    <tr>\n",
       "      <th>9</th>\n",
       "      <td>12</td>\n",
       "      <td>2.079442</td>\n",
       "      <td>Stellar</td>\n",
       "    </tr>\n",
       "    <tr>\n",
       "      <th>10</th>\n",
       "      <td>3</td>\n",
       "      <td>4.406719</td>\n",
       "      <td>Cardano</td>\n",
       "    </tr>\n",
       "    <tr>\n",
       "      <th>11</th>\n",
       "      <td>8</td>\n",
       "      <td>1.098612</td>\n",
       "      <td>IOTA</td>\n",
       "    </tr>\n",
       "    <tr>\n",
       "      <th>12</th>\n",
       "      <td>10</td>\n",
       "      <td>1.098612</td>\n",
       "      <td>Maker</td>\n",
       "    </tr>\n",
       "    <tr>\n",
       "      <th>13</th>\n",
       "      <td>4</td>\n",
       "      <td>3.555348</td>\n",
       "      <td>Dogecoin</td>\n",
       "    </tr>\n",
       "  </tbody>\n",
       "</table>\n",
       "</div>"
      ],
      "text/plain": [
       "    Asset_ID    Weight        Asset_Name\n",
       "0          2  2.397895      Bitcoin Cash\n",
       "1          0  4.304065      Binance Coin\n",
       "2          1  6.779922           Bitcoin\n",
       "3          5  1.386294            EOS.IO\n",
       "4          7  2.079442  Ethereum Classic\n",
       "5          6  5.894403          Ethereum\n",
       "6          9  2.397895          Litecoin\n",
       "7         11  1.609438            Monero\n",
       "8         13  1.791759              TRON\n",
       "9         12  2.079442           Stellar\n",
       "10         3  4.406719           Cardano\n",
       "11         8  1.098612              IOTA\n",
       "12        10  1.098612             Maker\n",
       "13         4  3.555348          Dogecoin"
      ]
     },
     "execution_count": 48,
     "metadata": {},
     "output_type": "execute_result"
    }
   ],
   "source": [
    "assets = pd.read_csv(\"g-research-crypto-forecasting/asset_details.csv\")\n",
    "assets"
   ]
  },
  {
   "cell_type": "markdown",
   "id": "e149f3c4",
   "metadata": {
    "ExecuteTime": {
     "end_time": "2022-01-13T13:16:27.066876Z",
     "start_time": "2022-01-13T13:16:27.060883Z"
    }
   },
   "source": [
    "#### Données d'entrainement"
   ]
  },
  {
   "cell_type": "code",
   "execution_count": 57,
   "id": "5dd21512",
   "metadata": {
    "ExecuteTime": {
     "end_time": "2022-01-13T13:52:41.756027Z",
     "start_time": "2022-01-13T13:52:17.948338Z"
    }
   },
   "outputs": [
    {
     "data": {
      "text/html": [
       "<div>\n",
       "<style scoped>\n",
       "    .dataframe tbody tr th:only-of-type {\n",
       "        vertical-align: middle;\n",
       "    }\n",
       "\n",
       "    .dataframe tbody tr th {\n",
       "        vertical-align: top;\n",
       "    }\n",
       "\n",
       "    .dataframe thead th {\n",
       "        text-align: right;\n",
       "    }\n",
       "</style>\n",
       "<table border=\"1\" class=\"dataframe\">\n",
       "  <thead>\n",
       "    <tr style=\"text-align: right;\">\n",
       "      <th></th>\n",
       "      <th>timestamp</th>\n",
       "      <th>Asset_ID</th>\n",
       "      <th>Count</th>\n",
       "      <th>Open</th>\n",
       "      <th>High</th>\n",
       "      <th>Low</th>\n",
       "      <th>Close</th>\n",
       "      <th>Volume</th>\n",
       "      <th>VWAP</th>\n",
       "      <th>Target</th>\n",
       "    </tr>\n",
       "  </thead>\n",
       "  <tbody>\n",
       "    <tr>\n",
       "      <th>0</th>\n",
       "      <td>1514764860</td>\n",
       "      <td>2</td>\n",
       "      <td>40</td>\n",
       "      <td>2376.580000</td>\n",
       "      <td>2399.5000</td>\n",
       "      <td>2357.1400</td>\n",
       "      <td>2374.590000</td>\n",
       "      <td>19.233005</td>\n",
       "      <td>2373.116392</td>\n",
       "      <td>-0.004218</td>\n",
       "    </tr>\n",
       "    <tr>\n",
       "      <th>1</th>\n",
       "      <td>1514764860</td>\n",
       "      <td>0</td>\n",
       "      <td>5</td>\n",
       "      <td>8.530000</td>\n",
       "      <td>8.5300</td>\n",
       "      <td>8.5300</td>\n",
       "      <td>8.530000</td>\n",
       "      <td>78.380000</td>\n",
       "      <td>8.530000</td>\n",
       "      <td>-0.014399</td>\n",
       "    </tr>\n",
       "    <tr>\n",
       "      <th>2</th>\n",
       "      <td>1514764860</td>\n",
       "      <td>1</td>\n",
       "      <td>229</td>\n",
       "      <td>13835.194000</td>\n",
       "      <td>14013.8000</td>\n",
       "      <td>13666.1100</td>\n",
       "      <td>13850.176000</td>\n",
       "      <td>31.550062</td>\n",
       "      <td>13827.062093</td>\n",
       "      <td>-0.014643</td>\n",
       "    </tr>\n",
       "    <tr>\n",
       "      <th>3</th>\n",
       "      <td>1514764860</td>\n",
       "      <td>5</td>\n",
       "      <td>32</td>\n",
       "      <td>7.659600</td>\n",
       "      <td>7.6596</td>\n",
       "      <td>7.6567</td>\n",
       "      <td>7.657600</td>\n",
       "      <td>6626.713370</td>\n",
       "      <td>7.657713</td>\n",
       "      <td>-0.013922</td>\n",
       "    </tr>\n",
       "    <tr>\n",
       "      <th>4</th>\n",
       "      <td>1514764860</td>\n",
       "      <td>7</td>\n",
       "      <td>5</td>\n",
       "      <td>25.920000</td>\n",
       "      <td>25.9200</td>\n",
       "      <td>25.8740</td>\n",
       "      <td>25.877000</td>\n",
       "      <td>121.087310</td>\n",
       "      <td>25.891363</td>\n",
       "      <td>-0.008264</td>\n",
       "    </tr>\n",
       "    <tr>\n",
       "      <th>5</th>\n",
       "      <td>1514764860</td>\n",
       "      <td>6</td>\n",
       "      <td>173</td>\n",
       "      <td>738.302500</td>\n",
       "      <td>746.0000</td>\n",
       "      <td>732.5100</td>\n",
       "      <td>738.507500</td>\n",
       "      <td>335.987856</td>\n",
       "      <td>738.839291</td>\n",
       "      <td>-0.004809</td>\n",
       "    </tr>\n",
       "    <tr>\n",
       "      <th>6</th>\n",
       "      <td>1514764860</td>\n",
       "      <td>9</td>\n",
       "      <td>167</td>\n",
       "      <td>225.330000</td>\n",
       "      <td>227.7800</td>\n",
       "      <td>222.9800</td>\n",
       "      <td>225.206667</td>\n",
       "      <td>411.896642</td>\n",
       "      <td>225.197944</td>\n",
       "      <td>-0.009791</td>\n",
       "    </tr>\n",
       "    <tr>\n",
       "      <th>7</th>\n",
       "      <td>1514764860</td>\n",
       "      <td>11</td>\n",
       "      <td>7</td>\n",
       "      <td>329.090000</td>\n",
       "      <td>329.8800</td>\n",
       "      <td>329.0900</td>\n",
       "      <td>329.460000</td>\n",
       "      <td>6.635710</td>\n",
       "      <td>329.454118</td>\n",
       "      <td>NaN</td>\n",
       "    </tr>\n",
       "    <tr>\n",
       "      <th>8</th>\n",
       "      <td>1514764920</td>\n",
       "      <td>2</td>\n",
       "      <td>53</td>\n",
       "      <td>2374.553333</td>\n",
       "      <td>2400.9000</td>\n",
       "      <td>2354.2000</td>\n",
       "      <td>2372.286667</td>\n",
       "      <td>24.050259</td>\n",
       "      <td>2371.434498</td>\n",
       "      <td>-0.004079</td>\n",
       "    </tr>\n",
       "    <tr>\n",
       "      <th>9</th>\n",
       "      <td>1514764920</td>\n",
       "      <td>0</td>\n",
       "      <td>7</td>\n",
       "      <td>8.530000</td>\n",
       "      <td>8.5300</td>\n",
       "      <td>8.5145</td>\n",
       "      <td>8.514500</td>\n",
       "      <td>71.390000</td>\n",
       "      <td>8.520215</td>\n",
       "      <td>-0.015875</td>\n",
       "    </tr>\n",
       "  </tbody>\n",
       "</table>\n",
       "</div>"
      ],
      "text/plain": [
       "    timestamp  Asset_ID  Count          Open        High         Low  \\\n",
       "0  1514764860         2     40   2376.580000   2399.5000   2357.1400   \n",
       "1  1514764860         0      5      8.530000      8.5300      8.5300   \n",
       "2  1514764860         1    229  13835.194000  14013.8000  13666.1100   \n",
       "3  1514764860         5     32      7.659600      7.6596      7.6567   \n",
       "4  1514764860         7      5     25.920000     25.9200     25.8740   \n",
       "5  1514764860         6    173    738.302500    746.0000    732.5100   \n",
       "6  1514764860         9    167    225.330000    227.7800    222.9800   \n",
       "7  1514764860        11      7    329.090000    329.8800    329.0900   \n",
       "8  1514764920         2     53   2374.553333   2400.9000   2354.2000   \n",
       "9  1514764920         0      7      8.530000      8.5300      8.5145   \n",
       "\n",
       "          Close       Volume          VWAP    Target  \n",
       "0   2374.590000    19.233005   2373.116392 -0.004218  \n",
       "1      8.530000    78.380000      8.530000 -0.014399  \n",
       "2  13850.176000    31.550062  13827.062093 -0.014643  \n",
       "3      7.657600  6626.713370      7.657713 -0.013922  \n",
       "4     25.877000   121.087310     25.891363 -0.008264  \n",
       "5    738.507500   335.987856    738.839291 -0.004809  \n",
       "6    225.206667   411.896642    225.197944 -0.009791  \n",
       "7    329.460000     6.635710    329.454118       NaN  \n",
       "8   2372.286667    24.050259   2371.434498 -0.004079  \n",
       "9      8.514500    71.390000      8.520215 -0.015875  "
      ]
     },
     "execution_count": 57,
     "metadata": {},
     "output_type": "execute_result"
    }
   ],
   "source": [
    "types = {\n",
    "    \"row_id\": 'int32',\n",
    "    \"Asset_ID\": 'int8',\n",
    "    \"Count\": 'int32',\n",
    "    \"Open\": 'float64',\n",
    "    \"High\": 'float64',\n",
    "    \"Low\": 'float64',\n",
    "    \"Close\": 'float64',\n",
    "    \"Volume\": 'float64',\n",
    "    \"VWAP\": 'float64',\n",
    "}\n",
    "\n",
    "df = pd.read_csv(\"g-research-crypto-forecasting/train.csv\", low_memory=False, dtype=types)\n",
    "df.head(10)"
   ]
  },
  {
   "cell_type": "markdown",
   "id": "14f749c3",
   "metadata": {
    "ExecuteTime": {
     "end_time": "2022-01-13T13:30:58.025207Z",
     "start_time": "2022-01-13T13:30:58.010217Z"
    }
   },
   "source": [
    "##### Info"
   ]
  },
  {
   "cell_type": "code",
   "execution_count": 58,
   "id": "aac4b1ab",
   "metadata": {
    "ExecuteTime": {
     "end_time": "2022-01-13T13:52:43.988288Z",
     "start_time": "2022-01-13T13:52:43.963075Z"
    },
    "scrolled": true
   },
   "outputs": [
    {
     "name": "stdout",
     "output_type": "stream",
     "text": [
      "<class 'pandas.core.frame.DataFrame'>\n",
      "RangeIndex: 24236806 entries, 0 to 24236805\n",
      "Data columns (total 10 columns):\n",
      " #   Column     Dtype  \n",
      "---  ------     -----  \n",
      " 0   timestamp  int64  \n",
      " 1   Asset_ID   int8   \n",
      " 2   Count      int32  \n",
      " 3   Open       float64\n",
      " 4   High       float64\n",
      " 5   Low        float64\n",
      " 6   Close      float64\n",
      " 7   Volume     float64\n",
      " 8   VWAP       float64\n",
      " 9   Target     float64\n",
      "dtypes: float64(7), int32(1), int64(1), int8(1)\n",
      "memory usage: 1.6 GB\n"
     ]
    }
   ],
   "source": [
    "df.info()"
   ]
  },
  {
   "cell_type": "markdown",
   "id": "87a13472",
   "metadata": {
    "ExecuteTime": {
     "end_time": "2022-01-13T13:31:18.250773Z",
     "start_time": "2022-01-13T13:31:18.241775Z"
    }
   },
   "source": [
    "##### Description"
   ]
  },
  {
   "cell_type": "code",
   "execution_count": 59,
   "id": "88bc9e7c",
   "metadata": {
    "ExecuteTime": {
     "end_time": "2022-01-13T13:52:52.237622Z",
     "start_time": "2022-01-13T13:52:47.298938Z"
    }
   },
   "outputs": [
    {
     "data": {
      "text/html": [
       "<div>\n",
       "<style scoped>\n",
       "    .dataframe tbody tr th:only-of-type {\n",
       "        vertical-align: middle;\n",
       "    }\n",
       "\n",
       "    .dataframe tbody tr th {\n",
       "        vertical-align: top;\n",
       "    }\n",
       "\n",
       "    .dataframe thead th {\n",
       "        text-align: right;\n",
       "    }\n",
       "</style>\n",
       "<table border=\"1\" class=\"dataframe\">\n",
       "  <thead>\n",
       "    <tr style=\"text-align: right;\">\n",
       "      <th></th>\n",
       "      <th>timestamp</th>\n",
       "      <th>Asset_ID</th>\n",
       "      <th>Count</th>\n",
       "      <th>Open</th>\n",
       "      <th>High</th>\n",
       "      <th>Low</th>\n",
       "      <th>Close</th>\n",
       "      <th>Volume</th>\n",
       "      <th>VWAP</th>\n",
       "      <th>Target</th>\n",
       "    </tr>\n",
       "  </thead>\n",
       "  <tbody>\n",
       "    <tr>\n",
       "      <th>count</th>\n",
       "      <td>2.423681e+07</td>\n",
       "      <td>2.423681e+07</td>\n",
       "      <td>2.423681e+07</td>\n",
       "      <td>2.423681e+07</td>\n",
       "      <td>2.423681e+07</td>\n",
       "      <td>2.423681e+07</td>\n",
       "      <td>2.423681e+07</td>\n",
       "      <td>2.423681e+07</td>\n",
       "      <td>2.423680e+07</td>\n",
       "      <td>2.348647e+07</td>\n",
       "    </tr>\n",
       "    <tr>\n",
       "      <th>mean</th>\n",
       "      <td>1.577120e+09</td>\n",
       "      <td>6.292544e+00</td>\n",
       "      <td>2.864593e+02</td>\n",
       "      <td>1.432640e+03</td>\n",
       "      <td>1.436350e+03</td>\n",
       "      <td>1.429568e+03</td>\n",
       "      <td>1.432640e+03</td>\n",
       "      <td>2.868530e+05</td>\n",
       "      <td>NaN</td>\n",
       "      <td>7.121752e-06</td>\n",
       "    </tr>\n",
       "    <tr>\n",
       "      <th>std</th>\n",
       "      <td>3.323350e+07</td>\n",
       "      <td>4.091861e+00</td>\n",
       "      <td>8.673982e+02</td>\n",
       "      <td>6.029605e+03</td>\n",
       "      <td>6.039482e+03</td>\n",
       "      <td>6.020261e+03</td>\n",
       "      <td>6.029611e+03</td>\n",
       "      <td>2.433935e+06</td>\n",
       "      <td>NaN</td>\n",
       "      <td>5.679042e-03</td>\n",
       "    </tr>\n",
       "    <tr>\n",
       "      <th>min</th>\n",
       "      <td>1.514765e+09</td>\n",
       "      <td>0.000000e+00</td>\n",
       "      <td>1.000000e+00</td>\n",
       "      <td>1.170400e-03</td>\n",
       "      <td>1.195000e-03</td>\n",
       "      <td>2.000000e-04</td>\n",
       "      <td>1.171400e-03</td>\n",
       "      <td>-3.662812e-01</td>\n",
       "      <td>-inf</td>\n",
       "      <td>-5.093509e-01</td>\n",
       "    </tr>\n",
       "    <tr>\n",
       "      <th>25%</th>\n",
       "      <td>1.549011e+09</td>\n",
       "      <td>3.000000e+00</td>\n",
       "      <td>1.900000e+01</td>\n",
       "      <td>2.676500e-01</td>\n",
       "      <td>2.681600e-01</td>\n",
       "      <td>2.669000e-01</td>\n",
       "      <td>2.676483e-01</td>\n",
       "      <td>1.410725e+02</td>\n",
       "      <td>2.676368e-01</td>\n",
       "      <td>-1.694354e-03</td>\n",
       "    </tr>\n",
       "    <tr>\n",
       "      <th>50%</th>\n",
       "      <td>1.578372e+09</td>\n",
       "      <td>6.000000e+00</td>\n",
       "      <td>6.400000e+01</td>\n",
       "      <td>1.428860e+01</td>\n",
       "      <td>1.431250e+01</td>\n",
       "      <td>1.426300e+01</td>\n",
       "      <td>1.428920e+01</td>\n",
       "      <td>1.295415e+03</td>\n",
       "      <td>1.428769e+01</td>\n",
       "      <td>-4.289844e-05</td>\n",
       "    </tr>\n",
       "    <tr>\n",
       "      <th>75%</th>\n",
       "      <td>1.606198e+09</td>\n",
       "      <td>9.000000e+00</td>\n",
       "      <td>2.210000e+02</td>\n",
       "      <td>2.288743e+02</td>\n",
       "      <td>2.293000e+02</td>\n",
       "      <td>2.284200e+02</td>\n",
       "      <td>2.288729e+02</td>\n",
       "      <td>2.729764e+04</td>\n",
       "      <td>2.288728e+02</td>\n",
       "      <td>1.601520e-03</td>\n",
       "    </tr>\n",
       "    <tr>\n",
       "      <th>max</th>\n",
       "      <td>1.632182e+09</td>\n",
       "      <td>1.300000e+01</td>\n",
       "      <td>1.650160e+05</td>\n",
       "      <td>6.480594e+04</td>\n",
       "      <td>6.490000e+04</td>\n",
       "      <td>6.467053e+04</td>\n",
       "      <td>6.480854e+04</td>\n",
       "      <td>7.597554e+08</td>\n",
       "      <td>inf</td>\n",
       "      <td>9.641699e-01</td>\n",
       "    </tr>\n",
       "  </tbody>\n",
       "</table>\n",
       "</div>"
      ],
      "text/plain": [
       "          timestamp      Asset_ID         Count          Open          High  \\\n",
       "count  2.423681e+07  2.423681e+07  2.423681e+07  2.423681e+07  2.423681e+07   \n",
       "mean   1.577120e+09  6.292544e+00  2.864593e+02  1.432640e+03  1.436350e+03   \n",
       "std    3.323350e+07  4.091861e+00  8.673982e+02  6.029605e+03  6.039482e+03   \n",
       "min    1.514765e+09  0.000000e+00  1.000000e+00  1.170400e-03  1.195000e-03   \n",
       "25%    1.549011e+09  3.000000e+00  1.900000e+01  2.676500e-01  2.681600e-01   \n",
       "50%    1.578372e+09  6.000000e+00  6.400000e+01  1.428860e+01  1.431250e+01   \n",
       "75%    1.606198e+09  9.000000e+00  2.210000e+02  2.288743e+02  2.293000e+02   \n",
       "max    1.632182e+09  1.300000e+01  1.650160e+05  6.480594e+04  6.490000e+04   \n",
       "\n",
       "                Low         Close        Volume          VWAP        Target  \n",
       "count  2.423681e+07  2.423681e+07  2.423681e+07  2.423680e+07  2.348647e+07  \n",
       "mean   1.429568e+03  1.432640e+03  2.868530e+05           NaN  7.121752e-06  \n",
       "std    6.020261e+03  6.029611e+03  2.433935e+06           NaN  5.679042e-03  \n",
       "min    2.000000e-04  1.171400e-03 -3.662812e-01          -inf -5.093509e-01  \n",
       "25%    2.669000e-01  2.676483e-01  1.410725e+02  2.676368e-01 -1.694354e-03  \n",
       "50%    1.426300e+01  1.428920e+01  1.295415e+03  1.428769e+01 -4.289844e-05  \n",
       "75%    2.284200e+02  2.288729e+02  2.729764e+04  2.288728e+02  1.601520e-03  \n",
       "max    6.467053e+04  6.480854e+04  7.597554e+08           inf  9.641699e-01  "
      ]
     },
     "execution_count": 59,
     "metadata": {},
     "output_type": "execute_result"
    }
   ],
   "source": [
    "df.describe()"
   ]
  },
  {
   "cell_type": "markdown",
   "id": "95a6e07f",
   "metadata": {
    "ExecuteTime": {
     "end_time": "2022-01-13T13:33:26.748836Z",
     "start_time": "2022-01-13T13:33:26.732839Z"
    }
   },
   "source": [
    "##### Valeurs manquantes, infinies et doublons"
   ]
  },
  {
   "cell_type": "code",
   "execution_count": 60,
   "id": "90b379fe",
   "metadata": {
    "ExecuteTime": {
     "end_time": "2022-01-13T13:52:54.029303Z",
     "start_time": "2022-01-13T13:52:53.362123Z"
    }
   },
   "outputs": [
    {
     "data": {
      "text/html": [
       "<div>\n",
       "<style scoped>\n",
       "    .dataframe tbody tr th:only-of-type {\n",
       "        vertical-align: middle;\n",
       "    }\n",
       "\n",
       "    .dataframe tbody tr th {\n",
       "        vertical-align: top;\n",
       "    }\n",
       "\n",
       "    .dataframe thead th {\n",
       "        text-align: right;\n",
       "    }\n",
       "</style>\n",
       "<table border=\"1\" class=\"dataframe\">\n",
       "  <thead>\n",
       "    <tr style=\"text-align: right;\">\n",
       "      <th></th>\n",
       "      <th>N/A</th>\n",
       "      <th>Inf</th>\n",
       "    </tr>\n",
       "  </thead>\n",
       "  <tbody>\n",
       "    <tr>\n",
       "      <th>timestamp</th>\n",
       "      <td>0</td>\n",
       "      <td>0</td>\n",
       "    </tr>\n",
       "    <tr>\n",
       "      <th>Asset_ID</th>\n",
       "      <td>0</td>\n",
       "      <td>0</td>\n",
       "    </tr>\n",
       "    <tr>\n",
       "      <th>Count</th>\n",
       "      <td>0</td>\n",
       "      <td>0</td>\n",
       "    </tr>\n",
       "    <tr>\n",
       "      <th>Open</th>\n",
       "      <td>0</td>\n",
       "      <td>0</td>\n",
       "    </tr>\n",
       "    <tr>\n",
       "      <th>High</th>\n",
       "      <td>0</td>\n",
       "      <td>0</td>\n",
       "    </tr>\n",
       "    <tr>\n",
       "      <th>Low</th>\n",
       "      <td>0</td>\n",
       "      <td>0</td>\n",
       "    </tr>\n",
       "    <tr>\n",
       "      <th>Close</th>\n",
       "      <td>0</td>\n",
       "      <td>0</td>\n",
       "    </tr>\n",
       "    <tr>\n",
       "      <th>Volume</th>\n",
       "      <td>0</td>\n",
       "      <td>0</td>\n",
       "    </tr>\n",
       "    <tr>\n",
       "      <th>VWAP</th>\n",
       "      <td>9</td>\n",
       "      <td>7</td>\n",
       "    </tr>\n",
       "    <tr>\n",
       "      <th>Target</th>\n",
       "      <td>750338</td>\n",
       "      <td>0</td>\n",
       "    </tr>\n",
       "  </tbody>\n",
       "</table>\n",
       "</div>"
      ],
      "text/plain": [
       "              N/A  Inf\n",
       "timestamp       0    0\n",
       "Asset_ID        0    0\n",
       "Count           0    0\n",
       "Open            0    0\n",
       "High            0    0\n",
       "Low             0    0\n",
       "Close           0    0\n",
       "Volume          0    0\n",
       "VWAP            9    7\n",
       "Target     750338    0"
      ]
     },
     "execution_count": 60,
     "metadata": {},
     "output_type": "execute_result"
    }
   ],
   "source": [
    "na_values = df.isna().sum()\n",
    "inf_values = df.shape[0] - np.isfinite(df).sum() - na_values\n",
    "pd.DataFrame(data=[na_values, inf_values], index=[\"N/A\", \"Inf\"]).T"
   ]
  },
  {
   "cell_type": "code",
   "execution_count": 53,
   "id": "22c2e203",
   "metadata": {
    "ExecuteTime": {
     "end_time": "2022-01-13T13:50:50.182128Z",
     "start_time": "2022-01-13T13:50:03.801035Z"
    }
   },
   "outputs": [
    {
     "name": "stdout",
     "output_type": "stream",
     "text": [
      "Duplicates: 0\n"
     ]
    }
   ],
   "source": [
    "print(\"Duplicates:\", df.duplicated().sum())"
   ]
  },
  {
   "cell_type": "markdown",
   "id": "8f19f343",
   "metadata": {},
   "source": [
    "<u>Résumé du jeu de données d'entrainement :</u>\n",
    "- 24 236 806 lignes\n",
    "- 10 colonnes, toutes numériques\n",
    "- Pas de doublon\n",
    "- Quelques N/A et inf dans `VWAP` et 3% de N/A dans `Target` : supprimons-les"
   ]
  },
  {
   "cell_type": "code",
   "execution_count": 61,
   "id": "0aad0aed",
   "metadata": {
    "ExecuteTime": {
     "end_time": "2022-01-13T13:53:00.322664Z",
     "start_time": "2022-01-13T13:52:59.088422Z"
    }
   },
   "outputs": [],
   "source": [
    "df = df[np.isfinite(df).all(1)]"
   ]
  },
  {
   "cell_type": "markdown",
   "id": "44a5b56c",
   "metadata": {
    "ExecuteTime": {
     "end_time": "2022-01-13T13:52:10.249430Z",
     "start_time": "2022-01-13T13:52:10.239436Z"
    }
   },
   "source": [
    "### Visualisation"
   ]
  },
  {
   "cell_type": "markdown",
   "id": "4c986ff1",
   "metadata": {},
   "source": [
    "Le jeu de données d'entrainement contient les données des 14 crypto-monnaies. Commençons par observer la distribution de chacune :"
   ]
  },
  {
   "cell_type": "code",
   "execution_count": 117,
   "id": "9e13f6bb",
   "metadata": {
    "ExecuteTime": {
     "end_time": "2022-01-13T14:39:49.730393Z",
     "start_time": "2022-01-13T14:39:48.282807Z"
    }
   },
   "outputs": [
    {
     "data": {
      "image/png": "[encoded data removed]",
      "text/plain": [
       "<Figure size 432x288 with 1 Axes>"
      ]
     },
     "metadata": {
      "needs_background": "light"
     },
     "output_type": "display_data"
    }
   ],
   "source": [
    "count_by_asset = df.groupby(\"Asset_ID\").count().reset_index()\n",
    "asset_ids = count_by_asset[\"Asset_ID\"].unique()\n",
    "plt.bar(x=\"Asset_ID\", height=\"Count\", data=count_by_asset)\n",
    "plt.xticks(ticks=asset_ids, labels=[assets[assets[\"Asset_ID\"] == asset_id][\"Asset_Name\"].values[0] for asset_id in asset_ids], rotation=90)\n",
    "plt.show()"
   ]
  },
  {
   "cell_type": "markdown",
   "id": "62b406b7",
   "metadata": {},
   "source": [
    "Intéressons-nous d'abord à l'une d'entre elles : le **Bitcoin** (`Asset_ID == 1`)"
   ]
  },
  {
   "cell_type": "code",
   "execution_count": 184,
   "id": "6368ca50",
   "metadata": {
    "ExecuteTime": {
     "end_time": "2022-01-13T15:03:07.487468Z",
     "start_time": "2022-01-13T15:03:06.934322Z"
    }
   },
   "outputs": [
    {
     "data": {
      "text/html": [
       "<div>\n",
       "<style scoped>\n",
       "    .dataframe tbody tr th:only-of-type {\n",
       "        vertical-align: middle;\n",
       "    }\n",
       "\n",
       "    .dataframe tbody tr th {\n",
       "        vertical-align: top;\n",
       "    }\n",
       "\n",
       "    .dataframe thead th {\n",
       "        text-align: right;\n",
       "    }\n",
       "</style>\n",
       "<table border=\"1\" class=\"dataframe\">\n",
       "  <thead>\n",
       "    <tr style=\"text-align: right;\">\n",
       "      <th></th>\n",
       "      <th>Asset_ID</th>\n",
       "      <th>Count</th>\n",
       "      <th>Open</th>\n",
       "      <th>High</th>\n",
       "      <th>Low</th>\n",
       "      <th>Close</th>\n",
       "      <th>Volume</th>\n",
       "      <th>VWAP</th>\n",
       "      <th>Target</th>\n",
       "    </tr>\n",
       "  </thead>\n",
       "  <tbody>\n",
       "    <tr>\n",
       "      <th>count</th>\n",
       "      <td>1955978.0</td>\n",
       "      <td>1.955978e+06</td>\n",
       "      <td>1.955978e+06</td>\n",
       "      <td>1.955978e+06</td>\n",
       "      <td>1.955978e+06</td>\n",
       "      <td>1.955978e+06</td>\n",
       "      <td>1.955978e+06</td>\n",
       "      <td>1.955978e+06</td>\n",
       "      <td>1.955978e+06</td>\n",
       "    </tr>\n",
       "    <tr>\n",
       "      <th>mean</th>\n",
       "      <td>1.0</td>\n",
       "      <td>1.082520e+03</td>\n",
       "      <td>1.561197e+04</td>\n",
       "      <td>1.565267e+04</td>\n",
       "      <td>1.557889e+04</td>\n",
       "      <td>1.561197e+04</td>\n",
       "      <td>9.286177e+01</td>\n",
       "      <td>1.561185e+04</td>\n",
       "      <td>-1.559993e-06</td>\n",
       "    </tr>\n",
       "    <tr>\n",
       "      <th>std</th>\n",
       "      <td>0.0</td>\n",
       "      <td>1.601885e+03</td>\n",
       "      <td>1.512209e+04</td>\n",
       "      <td>1.513271e+04</td>\n",
       "      <td>1.510694e+04</td>\n",
       "      <td>1.512211e+04</td>\n",
       "      <td>1.554136e+02</td>\n",
       "      <td>1.512197e+04</td>\n",
       "      <td>2.013754e-03</td>\n",
       "    </tr>\n",
       "    <tr>\n",
       "      <th>min</th>\n",
       "      <td>1.0</td>\n",
       "      <td>1.000000e+00</td>\n",
       "      <td>3.149657e+03</td>\n",
       "      <td>3.176910e+03</td>\n",
       "      <td>3.120000e+03</td>\n",
       "      <td>3.151545e+03</td>\n",
       "      <td>1.000000e-04</td>\n",
       "      <td>3.152326e+03</td>\n",
       "      <td>-7.255649e-02</td>\n",
       "    </tr>\n",
       "    <tr>\n",
       "      <th>25%</th>\n",
       "      <td>1.0</td>\n",
       "      <td>2.990000e+02</td>\n",
       "      <td>6.847824e+03</td>\n",
       "      <td>6.865000e+03</td>\n",
       "      <td>6.835160e+03</td>\n",
       "      <td>6.847719e+03</td>\n",
       "      <td>3.021328e+01</td>\n",
       "      <td>6.847831e+03</td>\n",
       "      <td>-8.163170e-04</td>\n",
       "    </tr>\n",
       "    <tr>\n",
       "      <th>50%</th>\n",
       "      <td>1.0</td>\n",
       "      <td>5.630000e+02</td>\n",
       "      <td>9.206418e+03</td>\n",
       "      <td>9.222810e+03</td>\n",
       "      <td>9.191630e+03</td>\n",
       "      <td>9.206438e+03</td>\n",
       "      <td>5.281073e+01</td>\n",
       "      <td>9.206370e+03</td>\n",
       "      <td>-1.916906e-05</td>\n",
       "    </tr>\n",
       "    <tr>\n",
       "      <th>75%</th>\n",
       "      <td>1.0</td>\n",
       "      <td>1.260000e+03</td>\n",
       "      <td>1.346956e+04</td>\n",
       "      <td>1.352229e+04</td>\n",
       "      <td>1.340100e+04</td>\n",
       "      <td>1.346976e+04</td>\n",
       "      <td>9.768691e+01</td>\n",
       "      <td>1.346953e+04</td>\n",
       "      <td>7.718871e-04</td>\n",
       "    </tr>\n",
       "    <tr>\n",
       "      <th>max</th>\n",
       "      <td>1.0</td>\n",
       "      <td>8.747800e+04</td>\n",
       "      <td>6.480594e+04</td>\n",
       "      <td>6.490000e+04</td>\n",
       "      <td>6.467053e+04</td>\n",
       "      <td>6.480854e+04</td>\n",
       "      <td>1.040500e+04</td>\n",
       "      <td>6.479982e+04</td>\n",
       "      <td>9.278919e-02</td>\n",
       "    </tr>\n",
       "  </tbody>\n",
       "</table>\n",
       "</div>"
      ],
      "text/plain": [
       "        Asset_ID         Count          Open          High           Low  \\\n",
       "count  1955978.0  1.955978e+06  1.955978e+06  1.955978e+06  1.955978e+06   \n",
       "mean         1.0  1.082520e+03  1.561197e+04  1.565267e+04  1.557889e+04   \n",
       "std          0.0  1.601885e+03  1.512209e+04  1.513271e+04  1.510694e+04   \n",
       "min          1.0  1.000000e+00  3.149657e+03  3.176910e+03  3.120000e+03   \n",
       "25%          1.0  2.990000e+02  6.847824e+03  6.865000e+03  6.835160e+03   \n",
       "50%          1.0  5.630000e+02  9.206418e+03  9.222810e+03  9.191630e+03   \n",
       "75%          1.0  1.260000e+03  1.346956e+04  1.352229e+04  1.340100e+04   \n",
       "max          1.0  8.747800e+04  6.480594e+04  6.490000e+04  6.467053e+04   \n",
       "\n",
       "              Close        Volume          VWAP        Target  \n",
       "count  1.955978e+06  1.955978e+06  1.955978e+06  1.955978e+06  \n",
       "mean   1.561197e+04  9.286177e+01  1.561185e+04 -1.559993e-06  \n",
       "std    1.512211e+04  1.554136e+02  1.512197e+04  2.013754e-03  \n",
       "min    3.151545e+03  1.000000e-04  3.152326e+03 -7.255649e-02  \n",
       "25%    6.847719e+03  3.021328e+01  6.847831e+03 -8.163170e-04  \n",
       "50%    9.206438e+03  5.281073e+01  9.206370e+03 -1.916906e-05  \n",
       "75%    1.346976e+04  9.768691e+01  1.346953e+04  7.718871e-04  \n",
       "max    6.480854e+04  1.040500e+04  6.479982e+04  9.278919e-02  "
      ]
     },
     "execution_count": 184,
     "metadata": {},
     "output_type": "execute_result"
    }
   ],
   "source": [
    "df_btc = df[df[\"Asset_ID\"] == 1].set_index(\"timestamp\")\n",
    "df_btc.describe()"
   ]
  },
  {
   "cell_type": "markdown",
   "id": "aed2869b",
   "metadata": {},
   "source": [
    "Voyons l'étendue temporelle des données, et regardons si nous avons des données pour chaque minute :"
   ]
  },
  {
   "cell_type": "code",
   "execution_count": 185,
   "id": "16751772",
   "metadata": {
    "ExecuteTime": {
     "end_time": "2022-01-13T15:03:08.417722Z",
     "start_time": "2022-01-13T15:03:08.375144Z"
    }
   },
   "outputs": [
    {
     "name": "stdout",
     "output_type": "stream",
     "text": [
      "Les données concernant le Bitcoin vont du 2018-01-01T00:01:00 au 2021-09-20T23:44:00\n",
      "Durant ce laps de temps, il y a eu :\n",
      "59 vide(s) de 1 minutes\n",
      "14 vide(s) de 2 minutes\n",
      "5 vide(s) de 3 minutes\n",
      "3 vide(s) de 4 minutes\n",
      "5 vide(s) de 5 minutes\n",
      "4 vide(s) de 6 minutes\n",
      "1 vide(s) de 7 minutes\n",
      "3 vide(s) de 8 minutes\n",
      "5 vide(s) de 9 minutes\n",
      "2 vide(s) de 10 minutes\n",
      "3 vide(s) de 11 minutes\n",
      "1 vide(s) de 12 minutes\n",
      "3 vide(s) de 14 minutes\n",
      "1 vide(s) de 16 minutes\n",
      "1 vide(s) de 18 minutes\n",
      "1 vide(s) de 19 minutes\n",
      "1 vide(s) de 23 minutes\n",
      "1 vide(s) de 33 minutes\n",
      "1 vide(s) de 47 minutes\n",
      "1 vide(s) de 49 minutes\n",
      "1 vide(s) de 54 minutes\n",
      "1 vide(s) de 66 minutes\n",
      "1 vide(s) de 74 minutes\n",
      "1 vide(s) de 77 minutes\n",
      "1 vide(s) de 144 minutes\n"
     ]
    }
   ],
   "source": [
    "print(\"Les données concernant le Bitcoin vont du\", df_btc.index[0].astype('datetime64[s]'), \"au\", df_btc.index[-1].astype('datetime64[s]'))\n",
    "print(\"Durant ce laps de temps, il y a eu :\")\n",
    "gaps = (df_btc.index[1:] - df_btc.index[:-1]).value_counts().sort_index()\n",
    "for gap, values in zip(gaps.index, gaps.values):\n",
    "    if gap >= 120:\n",
    "        print(values, \"vide(s) de\", (gap // 60) - 1, \"minutes\")"
   ]
  },
  {
   "cell_type": "markdown",
   "id": "1f956f12",
   "metadata": {},
   "source": [
    "Pour palier à ce problème de \"trous\", nous pouvons les remplir avec un `ffill` en utilisant la dernière valeur valide."
   ]
  },
  {
   "cell_type": "code",
   "execution_count": 186,
   "id": "06defc51",
   "metadata": {
    "ExecuteTime": {
     "end_time": "2022-01-13T15:03:10.517094Z",
     "start_time": "2022-01-13T15:03:09.847024Z"
    }
   },
   "outputs": [],
   "source": [
    "df_btc = df_btc.reindex(np.array(range(df_btc.index[0], df_btc.index[-1] + 60, 60))).ffill()"
   ]
  },
  {
   "cell_type": "markdown",
   "id": "e2684459",
   "metadata": {
    "ExecuteTime": {
     "end_time": "2022-01-13T15:04:35.672941Z",
     "start_time": "2022-01-13T15:04:35.664904Z"
    }
   },
   "source": [
    "Nous pouvons maintenant visualiser l'évolution du cours du Bitcoin en fonction du temps."
   ]
  },
  {
   "cell_type": "code",
   "execution_count": 200,
   "id": "273a761f",
   "metadata": {
    "ExecuteTime": {
     "end_time": "2022-01-13T15:08:38.882611Z",
     "start_time": "2022-01-13T15:08:38.585540Z"
    }
   },
   "outputs": [
    {
     "data": {
      "image/png": "[encoded data removed]",
      "text/plain": [
       "<Figure size 1008x576 with 1 Axes>"
      ]
     },
     "metadata": {
      "needs_background": "light"
     },
     "output_type": "display_data"
    }
   ],
   "source": [
    "plt.figure(figsize=(14, 8))\n",
    "plt.plot(df_btc.index, df_btc.Close)\n",
    "plt.xlabel(\"Timestamp\")\n",
    "plt.ylabel(\"Prix (USD)\")\n",
    "plt.show()"
   ]
  },
  {
   "cell_type": "code",
   "execution_count": null,
   "id": "9cc106f2",
   "metadata": {},
   "outputs": [],
   "source": []
  },
  {
   "cell_type": "code",
   "execution_count": null,
   "id": "726a5c2a",
   "metadata": {},
   "outputs": [],
   "source": []
  }
 ],
 "metadata": {
  "hide_input": false,
  "kernelspec": {
   "display_name": "Python 3",
   "language": "python",
   "name": "python3"
  },
  "language_info": {
   "codemirror_mode": {
    "name": "ipython",
    "version": 3
   },
   "file_extension": ".py",
   "mimetype": "text/x-python",
   "name": "python",
   "nbconvert_exporter": "python",
   "pygments_lexer": "ipython3",
   "version": "3.8.8"
  },
  "varInspector": {
   "cols": {
    "lenName": 16,
    "lenType": 16,
    "lenVar": 40
   },
   "kernels_config": {
    "python": {
     "delete_cmd_postfix": "",
     "delete_cmd_prefix": "del ",
     "library": "var_list.py",
     "varRefreshCmd": "print(var_dic_list())"
    },
    "r": {
     "delete_cmd_postfix": ") ",
     "delete_cmd_prefix": "rm(",
     "library": "var_list.r",
     "varRefreshCmd": "cat(var_dic_list()) "
    }
   },
   "types_to_exclude": [
    "module",
    "function",
    "builtin_function_or_method",
    "instance",
    "_Feature"
   ],
   "window_display": false
  }
 },
 "nbformat": 4,
 "nbformat_minor": 5
}
