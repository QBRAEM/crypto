{
 "cells": [
  {
   "cell_type": "markdown",
   "id": "0a3f22f1",
   "metadata": {},
   "source": [
    "# Projet data - alternative au stage de fin de formation"
   ]
  },
  {
   "cell_type": "markdown",
   "id": "15eecca8",
   "metadata": {},
   "source": [
    "## G-Research Crypto Forecasting"
   ]
  },
  {
   "cell_type": "markdown",
   "id": "4735db8e",
   "metadata": {},
   "source": [
    "https://www.kaggle.com/c/g-research-crypto-forecasting"
   ]
  },
  {
   "cell_type": "markdown",
   "id": "0c3031cd",
   "metadata": {},
   "source": [
    "<img src=\"crypto.png\"/>"
   ]
  },
  {
   "cell_type": "markdown",
   "id": "6346924a",
   "metadata": {},
   "source": [
    "### Modélisation et prédiction"
   ]
  },
  {
   "cell_type": "markdown",
   "id": "fec0f910",
   "metadata": {},
   "source": [
    "**Important** : Executez le code de la partie 2 `crypto_preparation` avant de continuer."
   ]
  },
  {
   "cell_type": "code",
   "execution_count": 49,
   "id": "89f9179b",
   "metadata": {
    "ExecuteTime": {
     "end_time": "2022-01-29T11:58:50.449787Z",
     "start_time": "2022-01-29T11:58:50.442758Z"
    }
   },
   "outputs": [],
   "source": [
    "import numpy as np\n",
    "import pandas as pd\n",
    "import pickle as pk\n",
    "import matplotlib.pyplot as plt\n",
    "import matplotlib.dates as md\n",
    "import seaborn as sns\n",
    "import datetime\n",
    "import time\n",
    "from sklearn.metrics import *\n",
    "from sklearn.linear_model import LinearRegression\n",
    "from catboost import CatBoostRegressor\n",
    "from lightgbm import LGBMRegressor\n",
    "from xgboost import XGBRegressor\n",
    "%matplotlib inline"
   ]
  },
  {
   "cell_type": "code",
   "execution_count": 50,
   "id": "1a05c418",
   "metadata": {
    "ExecuteTime": {
     "end_time": "2022-01-29T11:58:51.209323Z",
     "start_time": "2022-01-29T11:58:51.199325Z"
    }
   },
   "outputs": [],
   "source": [
    "def load_data(filename):\n",
    "    with open(\"./\" + filename + \".pkl\", 'rb') as f:\n",
    "        objects = []\n",
    "        unpickler = pk.Unpickler(f)\n",
    "        while True:\n",
    "            try:\n",
    "                obj = unpickler.load()\n",
    "                objects.append(obj)\n",
    "            except:\n",
    "                return tuple(objects)\n",
    "    return tuple()"
   ]
  },
  {
   "cell_type": "code",
   "execution_count": 51,
   "id": "d242eddb",
   "metadata": {
    "ExecuteTime": {
     "end_time": "2022-01-29T11:58:52.641283Z",
     "start_time": "2022-01-29T11:58:51.890791Z"
    }
   },
   "outputs": [
    {
     "data": {
      "text/html": [
       "<div>\n",
       "<style scoped>\n",
       "    .dataframe tbody tr th:only-of-type {\n",
       "        vertical-align: middle;\n",
       "    }\n",
       "\n",
       "    .dataframe tbody tr th {\n",
       "        vertical-align: top;\n",
       "    }\n",
       "\n",
       "    .dataframe thead th {\n",
       "        text-align: right;\n",
       "    }\n",
       "</style>\n",
       "<table border=\"1\" class=\"dataframe\">\n",
       "  <thead>\n",
       "    <tr style=\"text-align: right;\">\n",
       "      <th></th>\n",
       "      <th>Asset_ID</th>\n",
       "      <th>Count</th>\n",
       "      <th>Open</th>\n",
       "      <th>High</th>\n",
       "      <th>Low</th>\n",
       "      <th>Close</th>\n",
       "      <th>Volume</th>\n",
       "      <th>VWAP</th>\n",
       "      <th>Target</th>\n",
       "      <th>Upper_Shadow</th>\n",
       "      <th>Lower_Shadow</th>\n",
       "      <th>Log_Return_1min</th>\n",
       "    </tr>\n",
       "    <tr>\n",
       "      <th>timestamp</th>\n",
       "      <th></th>\n",
       "      <th></th>\n",
       "      <th></th>\n",
       "      <th></th>\n",
       "      <th></th>\n",
       "      <th></th>\n",
       "      <th></th>\n",
       "      <th></th>\n",
       "      <th></th>\n",
       "      <th></th>\n",
       "      <th></th>\n",
       "      <th></th>\n",
       "    </tr>\n",
       "  </thead>\n",
       "  <tbody>\n",
       "    <tr>\n",
       "      <th>1600552800</th>\n",
       "      <td>0.0</td>\n",
       "      <td>319.0</td>\n",
       "      <td>27.3176</td>\n",
       "      <td>27.3346</td>\n",
       "      <td>27.2900</td>\n",
       "      <td>27.30840</td>\n",
       "      <td>3401.2153</td>\n",
       "      <td>27.317935</td>\n",
       "      <td>-0.002849</td>\n",
       "      <td>0.01700</td>\n",
       "      <td>0.0184</td>\n",
       "      <td>0.000020</td>\n",
       "    </tr>\n",
       "    <tr>\n",
       "      <th>1600552860</th>\n",
       "      <td>0.0</td>\n",
       "      <td>169.0</td>\n",
       "      <td>27.3080</td>\n",
       "      <td>27.3399</td>\n",
       "      <td>27.2958</td>\n",
       "      <td>27.32445</td>\n",
       "      <td>1756.3163</td>\n",
       "      <td>27.318485</td>\n",
       "      <td>-0.001419</td>\n",
       "      <td>0.01545</td>\n",
       "      <td>0.0122</td>\n",
       "      <td>0.000020</td>\n",
       "    </tr>\n",
       "    <tr>\n",
       "      <th>1600552920</th>\n",
       "      <td>0.0</td>\n",
       "      <td>170.0</td>\n",
       "      <td>27.3175</td>\n",
       "      <td>27.3367</td>\n",
       "      <td>27.2489</td>\n",
       "      <td>27.27730</td>\n",
       "      <td>1031.0570</td>\n",
       "      <td>27.293355</td>\n",
       "      <td>-0.000084</td>\n",
       "      <td>0.01920</td>\n",
       "      <td>0.0284</td>\n",
       "      <td>-0.000920</td>\n",
       "    </tr>\n",
       "    <tr>\n",
       "      <th>1600552980</th>\n",
       "      <td>0.0</td>\n",
       "      <td>153.0</td>\n",
       "      <td>27.2705</td>\n",
       "      <td>27.2810</td>\n",
       "      <td>27.2151</td>\n",
       "      <td>27.25110</td>\n",
       "      <td>1623.7244</td>\n",
       "      <td>27.270969</td>\n",
       "      <td>0.001622</td>\n",
       "      <td>0.01050</td>\n",
       "      <td>0.0360</td>\n",
       "      <td>-0.000821</td>\n",
       "    </tr>\n",
       "    <tr>\n",
       "      <th>1600553040</th>\n",
       "      <td>0.0</td>\n",
       "      <td>112.0</td>\n",
       "      <td>27.2333</td>\n",
       "      <td>27.2620</td>\n",
       "      <td>27.2106</td>\n",
       "      <td>27.25870</td>\n",
       "      <td>914.2690</td>\n",
       "      <td>27.231585</td>\n",
       "      <td>0.002324</td>\n",
       "      <td>0.00330</td>\n",
       "      <td>0.0227</td>\n",
       "      <td>-0.001445</td>\n",
       "    </tr>\n",
       "  </tbody>\n",
       "</table>\n",
       "</div>"
      ],
      "text/plain": [
       "            Asset_ID  Count     Open     High      Low     Close     Volume  \\\n",
       "timestamp                                                                     \n",
       "1600552800       0.0  319.0  27.3176  27.3346  27.2900  27.30840  3401.2153   \n",
       "1600552860       0.0  169.0  27.3080  27.3399  27.2958  27.32445  1756.3163   \n",
       "1600552920       0.0  170.0  27.3175  27.3367  27.2489  27.27730  1031.0570   \n",
       "1600552980       0.0  153.0  27.2705  27.2810  27.2151  27.25110  1623.7244   \n",
       "1600553040       0.0  112.0  27.2333  27.2620  27.2106  27.25870   914.2690   \n",
       "\n",
       "                 VWAP    Target  Upper_Shadow  Lower_Shadow  Log_Return_1min  \n",
       "timestamp                                                                     \n",
       "1600552800  27.317935 -0.002849       0.01700        0.0184         0.000020  \n",
       "1600552860  27.318485 -0.001419       0.01545        0.0122         0.000020  \n",
       "1600552920  27.293355 -0.000084       0.01920        0.0284        -0.000920  \n",
       "1600552980  27.270969  0.001622       0.01050        0.0360        -0.000821  \n",
       "1600553040  27.231585  0.002324       0.00330        0.0227        -0.001445  "
      ]
     },
     "execution_count": 51,
     "metadata": {},
     "output_type": "execute_result"
    }
   ],
   "source": [
    "(df,) = load_data(\"crypto_df\")\n",
    "(d_assets_1_year,) = load_data(\"crypto_d_assets_1_year\")\n",
    "d_assets_1_year[0][\"Asset_Data\"].head()"
   ]
  },
  {
   "cell_type": "markdown",
   "id": "dd1280fa",
   "metadata": {},
   "source": [
    "#### Séparation en données de train et de test"
   ]
  },
  {
   "cell_type": "markdown",
   "id": "89b221de",
   "metadata": {},
   "source": [
    "Prenons une période de 4 mois pour le train et 1 mois pour le test.<br>\n",
    "`train : du 01-02-2021 au 01-06-2021`<br>\n",
    "`test : du 01-06-2021 au 01-07-2021`"
   ]
  },
  {
   "cell_type": "code",
   "execution_count": 69,
   "id": "fc7419a5",
   "metadata": {
    "ExecuteTime": {
     "end_time": "2022-01-29T12:03:14.125995Z",
     "start_time": "2022-01-29T12:03:14.109978Z"
    }
   },
   "outputs": [],
   "source": [
    "def get_train_data(df):\n",
    "    df[\"datetime\"] = pd.to_datetime(df.index, unit='s')\n",
    "    return df[(df[\"datetime\"] >= '2021-02-01') & (df[\"datetime\"] < '2021-06-01')]"
   ]
  },
  {
   "cell_type": "code",
   "execution_count": 85,
   "id": "0affdd5f",
   "metadata": {
    "ExecuteTime": {
     "end_time": "2022-01-29T12:08:22.339481Z",
     "start_time": "2022-01-29T12:08:22.320617Z"
    }
   },
   "outputs": [],
   "source": [
    "def get_test_data(df):\n",
    "    df[\"datetime\"] = pd.to_datetime(df.index, unit='s')\n",
    "    return df[(df[\"datetime\"] >= '2021-06-01') & (df[\"datetime\"] < '2021-07-01')]"
   ]
  },
  {
   "cell_type": "code",
   "execution_count": 86,
   "id": "a38400ac",
   "metadata": {
    "ExecuteTime": {
     "end_time": "2022-01-29T12:08:22.950431Z",
     "start_time": "2022-01-29T12:08:22.892388Z"
    }
   },
   "outputs": [
    {
     "name": "stdout",
     "output_type": "stream",
     "text": [
      "train: 2021-02-01 00:00:00 ~ 2021-05-31 23:59:00\n",
      "test: 2021-06-01 00:00:00 ~ 2021-06-30 23:59:00\n"
     ]
    }
   ],
   "source": [
    "df_bitcoin = d_assets_1_year[1][\"Asset_Data\"]\n",
    "df_bitcoin_train = get_train_data(df_bitcoin)\n",
    "df_bitcoin_test = get_test_data(df_bitcoin)\n",
    "print(\"train:\", df_bitcoin_train.iloc[0][\"datetime\"], \"~\", df_bitcoin_train.iloc[-1][\"datetime\"])\n",
    "print(\"test:\", df_bitcoin_test.iloc[0][\"datetime\"], \"~\", df_bitcoin_test.iloc[-1][\"datetime\"])"
   ]
  },
  {
   "cell_type": "markdown",
   "id": "29934c8f",
   "metadata": {},
   "source": [
    "S'agissant d'un problème de regression, essayons et comparons les performances des modèles suivants :\n",
    "- `LinearRegression`\n",
    "- `CatBoostRegressor`\n",
    "- `LGBMRegressor`\n",
    "- `XGBRegressor`"
   ]
  },
  {
   "cell_type": "code",
   "execution_count": 87,
   "id": "4d7ede4b",
   "metadata": {
    "ExecuteTime": {
     "end_time": "2022-01-29T12:08:23.644764Z",
     "start_time": "2022-01-29T12:08:23.633771Z"
    }
   },
   "outputs": [],
   "source": [
    "MODELS = {\n",
    "    \"LinearRegression\": { \"type\": LinearRegression, \"params\": { \"n_jobs\": -1 } },\n",
    "    \"CatBoostRegressor\": { \"type\": CatBoostRegressor, \"params\": { \"num_threads\": -1 } },\n",
    "    \"LGBMRegressor\": { \"type\": LGBMRegressor, \"params\": { \"n_jobs\": -1 } },\n",
    "    \"XGBRegressor\": { \"type\": XGBRegressor, \"params\": { \"n_jobs\": -1 } },\n",
    "}\n",
    "FEATURES = [\n",
    "    \"Count\",\n",
    "    \"Open\",\n",
    "    \"High\",\n",
    "    \"Low\",\n",
    "    \"Close\",\n",
    "    \"Volume\",\n",
    "    \"VWAP\",\n",
    "    \"Upper_Shadow\",\n",
    "    \"Lower_Shadow\",\n",
    "    \"Log_Return_1min\",\n",
    "]"
   ]
  },
  {
   "cell_type": "code",
   "execution_count": 88,
   "id": "00961c9b",
   "metadata": {
    "ExecuteTime": {
     "end_time": "2022-01-29T12:08:24.038584Z",
     "start_time": "2022-01-29T12:08:24.030623Z"
    }
   },
   "outputs": [],
   "source": [
    "def create_model(df_train, df_test, model_type):\n",
    "    X_train = df_train[FEATURES]\n",
    "    y_train = df_train[\"Target\"]\n",
    "    X_test = df_test[FEATURES]\n",
    "    y_test = df_test[\"Target\"]\n",
    "    model = model_type[\"type\"](**model_type[\"params\"])\n",
    "    model.fit(X_train, y_train)\n",
    "    return { \"X_train\": X_train, \"y_train\": y_train, \"X_test\": X_test, \"y_test\": y_test, \"model\": model }"
   ]
  },
  {
   "cell_type": "markdown",
   "id": "694dc7eb",
   "metadata": {},
   "source": []
  },
  {
   "cell_type": "code",
   "execution_count": 89,
   "id": "09ae4990",
   "metadata": {
    "ExecuteTime": {
     "end_time": "2022-01-29T12:08:24.868360Z",
     "start_time": "2022-01-29T12:08:24.852324Z"
    }
   },
   "outputs": [],
   "source": [
    "def weighted_correlation(expected, predicted, weights):\n",
    "    weights = np.ravel(weights)\n",
    "    expected = np.ravel(expected)\n",
    "    predicted = np.ravel(predicted)\n",
    "    sum_weights = np.sum(weights)\n",
    "    mean_expected = np.sum(expected * weights) / sum_weights\n",
    "    mean_predicted = np.sum(predicted * weights) / sum_weights\n",
    "    var_expected = np.sum(weights * np.square(expected - mean_expected)) / sum_weights\n",
    "    var_predicted = np.sum(weights * np.square(predicted - mean_predicted)) / sum_weights\n",
    "    cov = np.sum((expected * predicted * weights)) / np.sum(weights) - mean_expected * mean_predicted\n",
    "    corr = cov / np.sqrt(var_expected * var_predicted)\n",
    "    return abs(corr)"
   ]
  },
  {
   "cell_type": "code",
   "execution_count": 90,
   "id": "041c0b86",
   "metadata": {
    "ExecuteTime": {
     "end_time": "2022-01-29T12:08:26.318396Z",
     "start_time": "2022-01-29T12:08:25.325565Z"
    }
   },
   "outputs": [
    {
     "name": "stdout",
     "output_type": "stream",
     "text": [
      " 2 - Bitcoin Cash     : 0.017738\n",
      " 0 - Binance Coin     : 0.019331\n",
      " 1 - Bitcoin          : 0.015502\n",
      " 5 - EOS.IO           : 0.005757\n",
      " 7 - Ethereum Classic : 0.004655\n",
      " 6 - Ethereum         : 0.016576\n",
      " 9 - Litecoin         : 0.030998\n",
      "11 - Monero           : 0.007975\n",
      "13 - TRON             : 0.087173\n",
      "12 - Stellar          : 0.077853\n",
      " 3 - Cardano          : 0.040639\n",
      " 8 - IOTA             : 0.010734\n",
      "10 - Maker            : 0.043932\n",
      " 4 - Dogecoin         : 0.025617\n"
     ]
    }
   ],
   "source": [
    "for asset in d_assets_1_year.values():\n",
    "    df_train = get_train_data(asset[\"Asset_Data\"])\n",
    "    df_test = get_test_data(asset[\"Asset_Data\"])\n",
    "    linreg_model = create_model(df_train, df_test, MODELS[\"LinearRegression\"])\n",
    "    y_pred = linreg_model[\"model\"].predict(linreg_model[\"X_test\"])\n",
    "    wcorr = weighted_correlation(linreg_model[\"y_test\"], y_pred, np.repeat(asset[\"Asset_Weight\"], len(y_pred)))\n",
    "    print(\"%2d - %-16s : %f\" % (asset[\"Asset_ID\"], asset[\"Asset_Name\"], wcorr))"
   ]
  },
  {
   "cell_type": "code",
   "execution_count": null,
   "id": "6c62b109",
   "metadata": {},
   "outputs": [],
   "source": []
  },
  {
   "cell_type": "code",
   "execution_count": null,
   "id": "e95dfc9e",
   "metadata": {},
   "outputs": [],
   "source": []
  },
  {
   "cell_type": "code",
   "execution_count": null,
   "id": "7d2ece86",
   "metadata": {},
   "outputs": [],
   "source": []
  },
  {
   "cell_type": "code",
   "execution_count": null,
   "id": "ee59041d",
   "metadata": {},
   "outputs": [],
   "source": []
  },
  {
   "cell_type": "code",
   "execution_count": null,
   "id": "46c84cdd",
   "metadata": {},
   "outputs": [],
   "source": []
  },
  {
   "cell_type": "code",
   "execution_count": null,
   "id": "283f9def",
   "metadata": {},
   "outputs": [],
   "source": []
  },
  {
   "cell_type": "code",
   "execution_count": null,
   "id": "efb5c1e5",
   "metadata": {},
   "outputs": [],
   "source": []
  },
  {
   "cell_type": "code",
   "execution_count": null,
   "id": "e679ba05",
   "metadata": {},
   "outputs": [],
   "source": []
  },
  {
   "cell_type": "code",
   "execution_count": null,
   "id": "8d2043e5",
   "metadata": {},
   "outputs": [],
   "source": []
  },
  {
   "cell_type": "code",
   "execution_count": null,
   "id": "37b317c0",
   "metadata": {},
   "outputs": [],
   "source": []
  }
 ],
 "metadata": {
  "hide_input": false,
  "kernelspec": {
   "display_name": "Python 3",
   "language": "python",
   "name": "python3"
  },
  "language_info": {
   "codemirror_mode": {
    "name": "ipython",
    "version": 3
   },
   "file_extension": ".py",
   "mimetype": "text/x-python",
   "name": "python",
   "nbconvert_exporter": "python",
   "pygments_lexer": "ipython3",
   "version": "3.8.8"
  },
  "varInspector": {
   "cols": {
    "lenName": 16,
    "lenType": 16,
    "lenVar": 40
   },
   "kernels_config": {
    "python": {
     "delete_cmd_postfix": "",
     "delete_cmd_prefix": "del ",
     "library": "var_list.py",
     "varRefreshCmd": "print(var_dic_list())"
    },
    "r": {
     "delete_cmd_postfix": ") ",
     "delete_cmd_prefix": "rm(",
     "library": "var_list.r",
     "varRefreshCmd": "cat(var_dic_list()) "
    }
   },
   "types_to_exclude": [
    "module",
    "function",
    "builtin_function_or_method",
    "instance",
    "_Feature"
   ],
   "window_display": false
  }
 },
 "nbformat": 4,
 "nbformat_minor": 5
}
