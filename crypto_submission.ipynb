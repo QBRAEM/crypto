{
 "cells": [
  {
   "cell_type": "markdown",
   "id": "15eecca8",
   "metadata": {},
   "source": [
    "## G-Research Crypto Forecasting"
   ]
  },
  {
   "cell_type": "markdown",
   "id": "4735db8e",
   "metadata": {},
   "source": [
    "https://www.kaggle.com/c/g-research-crypto-forecasting"
   ]
  },
  {
   "cell_type": "code",
   "execution_count": 1,
   "id": "c9d10c37",
   "metadata": {
    "ExecuteTime": {
     "end_time": "2022-02-01T09:55:39.187915Z",
     "start_time": "2022-02-01T09:55:37.447760Z"
    }
   },
   "outputs": [],
   "source": [
    "import numpy as np\n",
    "import pandas as pd\n",
    "import pickle as pk\n",
    "import datetime\n",
    "import time\n",
    "from sklearn.metrics import *\n",
    "from sklearn.linear_model import LinearRegression\n",
    "from catboost import CatBoostRegressor\n",
    "from lightgbm import LGBMRegressor\n",
    "from xgboost import XGBRegressor"
   ]
  },
  {
   "cell_type": "markdown",
   "id": "d4080313",
   "metadata": {},
   "source": [
    "### Exploration"
   ]
  },
  {
   "cell_type": "code",
   "execution_count": 2,
   "id": "7421cb52",
   "metadata": {
    "ExecuteTime": {
     "end_time": "2022-02-01T09:55:40.063053Z",
     "start_time": "2022-02-01T09:55:40.052059Z"
    }
   },
   "outputs": [],
   "source": [
    "TRAIN_CSV = \"../input/g-research-crypto-forecasting/train.csv\"\n",
    "ASSET_CSV = \"../input/g-research-crypto-forecasting/asset_details.csv\""
   ]
  },
  {
   "cell_type": "code",
   "execution_count": 3,
   "id": "aab8f4a2",
   "metadata": {
    "ExecuteTime": {
     "end_time": "2022-02-01T09:55:40.754697Z",
     "start_time": "2022-02-01T09:55:40.743697Z"
    }
   },
   "outputs": [],
   "source": [
    "df_assets = pd.read_csv(ASSET_CSV)"
   ]
  },
  {
   "cell_type": "code",
   "execution_count": 4,
   "id": "f5c71580",
   "metadata": {
    "ExecuteTime": {
     "end_time": "2022-02-01T09:56:04.331725Z",
     "start_time": "2022-02-01T09:55:41.942283Z"
    }
   },
   "outputs": [],
   "source": [
    "types = {\n",
    "    \"row_id\"   : 'int32',\n",
    "    \"Asset_ID\" : 'int8',\n",
    "    \"Count\"    : 'int32',\n",
    "    \"Open\"     : 'float64',\n",
    "    \"High\"     : 'float64',\n",
    "    \"Low\"      : 'float64',\n",
    "    \"Close\"    : 'float64',\n",
    "    \"Volume\"   : 'float64',\n",
    "    \"VWAP\"     : 'float64',\n",
    "}\n",
    "df = pd.read_csv(TRAIN_CSV, dtype=types)\n",
    "df = df.replace([np.inf, -np.inf], np.nan).ffill().bfill()"
   ]
  },
  {
   "cell_type": "code",
   "execution_count": 5,
   "id": "0504c12e",
   "metadata": {
    "ExecuteTime": {
     "end_time": "2022-02-01T09:56:21.036086Z",
     "start_time": "2022-02-01T09:56:10.187920Z"
    }
   },
   "outputs": [],
   "source": [
    "def extract_asset_and_fill_gaps(df, asset_id):\n",
    "    asset_df = df[df[\"Asset_ID\"] == asset_id].set_index(\"timestamp\")\n",
    "    asset_df = asset_df.reindex(np.array(range(asset_df.index[0], asset_df.index[-1] + 60, 60))).ffill()\n",
    "    return asset_df\n",
    "\n",
    "assets = {}\n",
    "for i, row in df_assets.iterrows():\n",
    "    asset_id = row[\"Asset_ID\"]\n",
    "    asset_name = row[\"Asset_Name\"]\n",
    "    asset_weight = row[\"Weight\"]\n",
    "    asset_df = extract_asset_and_fill_gaps(df, asset_id)\n",
    "    assets[asset_id] = {\n",
    "        \"Asset_ID\": asset_id,\n",
    "        \"Asset_Name\": asset_name,\n",
    "        \"Asset_Weight\": asset_weight,\n",
    "        \"Asset_Data\": asset_df,\n",
    "    }"
   ]
  },
  {
   "cell_type": "code",
   "execution_count": 7,
   "id": "a93aa007",
   "metadata": {
    "ExecuteTime": {
     "end_time": "2022-02-01T09:56:38.702080Z",
     "start_time": "2022-02-01T09:56:38.622625Z"
    }
   },
   "outputs": [],
   "source": [
    "def date_to_timestamp(date):\n",
    "    return np.int32(time.mktime(datetime.datetime.strptime(date, \"%Y-%m-%d\").timetuple()))\n",
    "\n",
    "assets_1_year = {}\n",
    "for asset in assets.values():\n",
    "    assets_1_year[asset[\"Asset_ID\"]] = {\n",
    "        \"Asset_ID\": asset[\"Asset_ID\"],\n",
    "        \"Asset_Name\": asset[\"Asset_Name\"],\n",
    "        \"Asset_Weight\": asset[\"Asset_Weight\"],\n",
    "        \"Asset_Data\": asset[\"Asset_Data\"].loc[date_to_timestamp(\"2020-09-20\"):date_to_timestamp(\"2021-09-20\")],\n",
    "    }"
   ]
  },
  {
   "cell_type": "markdown",
   "id": "1dd26cab",
   "metadata": {},
   "source": [
    "### Preparation"
   ]
  },
  {
   "cell_type": "code",
   "execution_count": 8,
   "id": "2ded6ef3",
   "metadata": {
    "ExecuteTime": {
     "end_time": "2022-02-01T09:56:42.931081Z",
     "start_time": "2022-02-01T09:56:41.059844Z"
    }
   },
   "outputs": [
    {
     "name": "stderr",
     "output_type": "stream",
     "text": [
      "<ipython-input-8-b6811c5ee827>:8: SettingWithCopyWarning: \n",
      "A value is trying to be set on a copy of a slice from a DataFrame.\n",
      "Try using .loc[row_indexer,col_indexer] = value instead\n",
      "\n",
      "See the caveats in the documentation: https://pandas.pydata.org/pandas-docs/stable/user_guide/indexing.html#returning-a-view-versus-a-copy\n",
      "  assets_1_year[asset_id][\"Asset_Data\"][\"Upper_Shadow\"] = get_upper_shadow(asset[\"Asset_Data\"])\n",
      "<ipython-input-8-b6811c5ee827>:9: SettingWithCopyWarning: \n",
      "A value is trying to be set on a copy of a slice from a DataFrame.\n",
      "Try using .loc[row_indexer,col_indexer] = value instead\n",
      "\n",
      "See the caveats in the documentation: https://pandas.pydata.org/pandas-docs/stable/user_guide/indexing.html#returning-a-view-versus-a-copy\n",
      "  assets_1_year[asset_id][\"Asset_Data\"][\"Lower_Shadow\"] = get_lower_shadow(asset[\"Asset_Data\"])\n"
     ]
    }
   ],
   "source": [
    "def get_upper_shadow(df):\n",
    "    return df.High - df[[\"Open\", \"Close\"]].max(axis=1)\n",
    "\n",
    "def get_lower_shadow(df):\n",
    "    return df[[\"Open\", \"Close\"]].min(axis=1) - df.Low\n",
    "\n",
    "for asset_id in assets_1_year.keys():\n",
    "    assets_1_year[asset_id][\"Asset_Data\"][\"Upper_Shadow\"] = get_upper_shadow(asset[\"Asset_Data\"])\n",
    "    assets_1_year[asset_id][\"Asset_Data\"][\"Lower_Shadow\"] = get_lower_shadow(asset[\"Asset_Data\"])"
   ]
  },
  {
   "cell_type": "markdown",
   "id": "17bafd08",
   "metadata": {},
   "source": [
    "### Prediction"
   ]
  },
  {
   "cell_type": "code",
   "execution_count": 9,
   "id": "f5b0ac8b",
   "metadata": {
    "ExecuteTime": {
     "end_time": "2022-02-01T09:56:55.486484Z",
     "start_time": "2022-02-01T09:56:55.470826Z"
    }
   },
   "outputs": [],
   "source": [
    "MODELS = {\n",
    "    \"LinearRegression\": { \"type\": LinearRegression, \"params\": { \"n_jobs\": -1 } },\n",
    "    \"CatBoostRegressor\": { \"type\": CatBoostRegressor, \"params\": { \"thread_count\": -1, \"verbose\": 0 } },\n",
    "    \"LGBMRegressor\": { \"type\": LGBMRegressor, \"params\": { \"n_jobs\": -1 } },\n",
    "    \"XGBRegressor\": { \"type\": XGBRegressor, \"params\": { \"n_jobs\": -1 } },\n",
    "}\n",
    "FEATURES = [\n",
    "    \"Count\",\n",
    "    \"Open\",\n",
    "    \"High\",\n",
    "    \"Low\",\n",
    "    \"Close\",\n",
    "    \"Volume\",\n",
    "    \"VWAP\",\n",
    "    \"Upper_Shadow\",\n",
    "    \"Lower_Shadow\",\n",
    "]"
   ]
  },
  {
   "cell_type": "code",
   "execution_count": 10,
   "id": "00961c9b",
   "metadata": {
    "ExecuteTime": {
     "end_time": "2022-02-01T09:56:58.758953Z",
     "start_time": "2022-02-01T09:56:58.742960Z"
    }
   },
   "outputs": [],
   "source": [
    "def get_train_data(df):\n",
    "    return df[(pd.to_datetime(df.index, unit='s') >= '2021-02-01') & (pd.to_datetime(df.index, unit='s') < '2021-06-01')]\n",
    "\n",
    "def get_test_data(df):\n",
    "    return df[(pd.to_datetime(df.index, unit='s') >= '2021-06-01') & (pd.to_datetime(df.index, unit='s') < '2021-07-01')]\n",
    "\n",
    "def create_model(df_train, df_test, model_type):\n",
    "    X_train = df_train[FEATURES]\n",
    "    y_train = df_train[\"Target\"]\n",
    "    X_test = df_test[FEATURES]\n",
    "    y_test = df_test[\"Target\"]\n",
    "    model = model_type[\"type\"](**model_type[\"params\"])\n",
    "    model.fit(X_train, y_train)\n",
    "    return { \"X_train\": X_train, \"y_train\": y_train, \"X_test\": X_test, \"y_test\": y_test, \"model\": model }\n",
    "\n",
    "def weighted_correlation(expected, predicted, weights):\n",
    "    weights = np.ravel(weights)\n",
    "    expected = np.ravel(expected)\n",
    "    predicted = np.ravel(predicted)\n",
    "    sum_weights = np.sum(weights)\n",
    "    mean_expected = np.sum(expected * weights) / sum_weights\n",
    "    mean_predicted = np.sum(predicted * weights) / sum_weights\n",
    "    var_expected = np.sum(weights * np.square(expected - mean_expected)) / sum_weights\n",
    "    var_predicted = np.sum(weights * np.square(predicted - mean_predicted)) / sum_weights\n",
    "    cov = np.sum((expected * predicted * weights)) / np.sum(weights) - mean_expected * mean_predicted\n",
    "    corr = cov / np.sqrt(var_expected * var_predicted)\n",
    "    return corr"
   ]
  },
  {
   "cell_type": "code",
   "execution_count": 11,
   "id": "09ae4990",
   "metadata": {
    "ExecuteTime": {
     "end_time": "2022-02-01T10:01:20.423162Z",
     "start_time": "2022-02-01T09:57:02.825538Z"
    }
   },
   "outputs": [
    {
     "name": "stdout",
     "output_type": "stream",
     "text": [
      "Bitcoin Cash\n",
      "  LinearRegression  : -0.003640\n",
      "  CatBoostRegressor : 0.027794\n",
      "  LGBMRegressor     : 0.007601\n",
      "  XGBRegressor      : 0.012998\n",
      "Binance Coin\n",
      "  LinearRegression  : 0.016654\n",
      "  CatBoostRegressor : 0.014153\n",
      "  LGBMRegressor     : 0.015378\n",
      "  XGBRegressor      : 0.000155\n",
      "Bitcoin\n",
      "  LinearRegression  : 0.017717\n",
      "  CatBoostRegressor : -0.010041\n",
      "  LGBMRegressor     : -0.031355\n",
      "  XGBRegressor      : 0.000729\n",
      "EOS.IO\n",
      "  LinearRegression  : -0.015020\n",
      "  CatBoostRegressor : 0.029644\n",
      "  LGBMRegressor     : 0.023615\n",
      "  XGBRegressor      : 0.015222\n",
      "Ethereum Classic\n",
      "  LinearRegression  : 0.008256\n",
      "  CatBoostRegressor : 0.020103\n",
      "  LGBMRegressor     : 0.025386\n",
      "  XGBRegressor      : 0.023657\n",
      "Ethereum\n",
      "  LinearRegression  : -0.021257\n",
      "  CatBoostRegressor : 0.016021\n",
      "  LGBMRegressor     : -0.006060\n",
      "  XGBRegressor      : 0.010950\n",
      "Litecoin\n",
      "  LinearRegression  : 0.025322\n",
      "  CatBoostRegressor : 0.030862\n",
      "  LGBMRegressor     : 0.012929\n",
      "  XGBRegressor      : 0.017480\n",
      "Monero\n",
      "  LinearRegression  : -0.006568\n",
      "  CatBoostRegressor : 0.017075\n",
      "  LGBMRegressor     : 0.010206\n",
      "  XGBRegressor      : 0.013938\n",
      "TRON\n",
      "  LinearRegression  : 0.077180\n",
      "  CatBoostRegressor : -0.023154\n",
      "  LGBMRegressor     : -0.035963\n",
      "  XGBRegressor      : -0.039823\n",
      "Stellar\n",
      "  LinearRegression  : -0.056595\n",
      "  CatBoostRegressor : -0.026997\n",
      "  LGBMRegressor     : -0.015067\n",
      "  XGBRegressor      : 0.020009\n",
      "Cardano\n",
      "  LinearRegression  : 0.044004\n",
      "  CatBoostRegressor : 0.012060\n",
      "  LGBMRegressor     : 0.020304\n",
      "  XGBRegressor      : 0.002340\n",
      "IOTA\n",
      "  LinearRegression  : 0.006028\n",
      "  CatBoostRegressor : -0.014523\n",
      "  LGBMRegressor     : 0.003822\n",
      "  XGBRegressor      : -0.001415\n",
      "Maker\n",
      "  LinearRegression  : 0.041885\n",
      "  CatBoostRegressor : 0.019273\n",
      "  LGBMRegressor     : 0.025699\n",
      "  XGBRegressor      : 0.003563\n",
      "Dogecoin\n",
      "  LinearRegression  : 0.025703\n",
      "  CatBoostRegressor : -0.002296\n",
      "  LGBMRegressor     : -0.004095\n",
      "  XGBRegressor      : -0.009113\n"
     ]
    }
   ],
   "source": [
    "results = {}\n",
    "for asset in assets_1_year.values():\n",
    "    print(asset[\"Asset_Name\"])\n",
    "    df_train = get_train_data(asset[\"Asset_Data\"])\n",
    "    df_test = get_test_data(asset[\"Asset_Data\"])\n",
    "    results[asset[\"Asset_ID\"]] = { \"Asset_Name\": asset[\"Asset_Name\"] }\n",
    "    for model_name, model in MODELS.items():\n",
    "        reg_model = create_model(df_train, df_test, model)\n",
    "        y_pred = reg_model[\"model\"].predict(reg_model[\"X_test\"])\n",
    "        wcorr = weighted_correlation(reg_model[\"y_test\"], y_pred, np.repeat(asset[\"Asset_Weight\"], len(y_pred)))\n",
    "        print(\"  %-18s: %f\" % (model_name, wcorr))\n",
    "        results[asset[\"Asset_ID\"]][model_name] = {\n",
    "            \"model\": reg_model[\"model\"],\n",
    "            \"wcorr\": wcorr,\n",
    "        }"
   ]
  },
  {
   "cell_type": "code",
   "execution_count": 12,
   "id": "e95dfc9e",
   "metadata": {
    "ExecuteTime": {
     "end_time": "2022-02-01T10:01:45.929236Z",
     "start_time": "2022-02-01T10:01:45.922239Z"
    }
   },
   "outputs": [
    {
     "name": "stdout",
     "output_type": "stream",
     "text": [
      "Bitcoin Cash     | CatBoostRegressor | 0.027794\n",
      "Binance Coin     | LinearRegression  | 0.016654\n",
      "Bitcoin          | LinearRegression  | 0.017717\n",
      "EOS.IO           | CatBoostRegressor | 0.029644\n",
      "Ethereum Classic | LGBMRegressor     | 0.025386\n",
      "Ethereum         | CatBoostRegressor | 0.016021\n",
      "Litecoin         | CatBoostRegressor | 0.030862\n",
      "Monero           | CatBoostRegressor | 0.017075\n",
      "TRON             | LinearRegression  | 0.077180\n",
      "Stellar          | XGBRegressor      | 0.020009\n",
      "Cardano          | LinearRegression  | 0.044004\n",
      "IOTA             | LinearRegression  | 0.006028\n",
      "Maker            | LinearRegression  | 0.041885\n",
      "Dogecoin         | LinearRegression  | 0.025703\n"
     ]
    }
   ],
   "source": [
    "for asset_id in results.keys():\n",
    "    best_index = np.argmax([results[asset_id][model_name][\"wcorr\"] for model_name in MODELS.keys()])\n",
    "    results[asset_id][\"best_model\"] = list(results[asset_id].keys())[best_index + 1]\n",
    "    print(\"%-16s | %-18s| %f\" % (results[asset_id][\"Asset_Name\"], results[asset_id][\"best_model\"], results[asset_id][results[asset_id][\"best_model\"]][\"wcorr\"]))"
   ]
  },
  {
   "cell_type": "markdown",
   "id": "f8c1e60a",
   "metadata": {},
   "source": [
    "### Submission"
   ]
  },
  {
   "cell_type": "code",
   "execution_count": 13,
   "id": "32db9be9",
   "metadata": {
    "ExecuteTime": {
     "end_time": "2022-02-01T10:01:51.452597Z",
     "start_time": "2022-02-01T10:01:51.436733Z"
    }
   },
   "outputs": [],
   "source": [
    "def get_row_upper_shadow(row):\n",
    "    return row.High - max(row.Open, row.Close)\n",
    "\n",
    "def get_row_lower_shadow(row):\n",
    "    return min(row.Open, row.Close) - row.Low"
   ]
  },
  {
   "cell_type": "code",
   "execution_count": 14,
   "id": "7b011bec",
   "metadata": {
    "ExecuteTime": {
     "end_time": "2022-02-01T10:01:52.234589Z",
     "start_time": "2022-02-01T10:01:52.215368Z"
    },
    "hide_input": false
   },
   "outputs": [
    {
     "ename": "ModuleNotFoundError",
     "evalue": "No module named 'gresearch_crypto'",
     "output_type": "error",
     "traceback": [
      "\u001b[1;31m---------------------------------------------------------------------------\u001b[0m",
      "\u001b[1;31mModuleNotFoundError\u001b[0m                       Traceback (most recent call last)",
      "\u001b[1;32m<ipython-input-14-7fcb5f9ab4e6>\u001b[0m in \u001b[0;36m<module>\u001b[1;34m\u001b[0m\n\u001b[1;32m----> 1\u001b[1;33m \u001b[1;32mimport\u001b[0m \u001b[0mgresearch_crypto\u001b[0m\u001b[1;33m\u001b[0m\u001b[1;33m\u001b[0m\u001b[0m\n\u001b[0m\u001b[0;32m      2\u001b[0m \u001b[0menv\u001b[0m \u001b[1;33m=\u001b[0m \u001b[0mgresearch_crypto\u001b[0m\u001b[1;33m.\u001b[0m\u001b[0mmake_env\u001b[0m\u001b[1;33m(\u001b[0m\u001b[1;33m)\u001b[0m\u001b[1;33m\u001b[0m\u001b[1;33m\u001b[0m\u001b[0m\n\u001b[0;32m      3\u001b[0m \u001b[0miter_test\u001b[0m \u001b[1;33m=\u001b[0m \u001b[0menv\u001b[0m\u001b[1;33m.\u001b[0m\u001b[0miter_test\u001b[0m\u001b[1;33m(\u001b[0m\u001b[1;33m)\u001b[0m\u001b[1;33m\u001b[0m\u001b[1;33m\u001b[0m\u001b[0m\n\u001b[0;32m      4\u001b[0m \u001b[1;32mfor\u001b[0m \u001b[1;33m(\u001b[0m\u001b[0mdf_test\u001b[0m\u001b[1;33m,\u001b[0m \u001b[0msample_prediction_df\u001b[0m\u001b[1;33m)\u001b[0m \u001b[1;32min\u001b[0m \u001b[0miter_test\u001b[0m\u001b[1;33m:\u001b[0m\u001b[1;33m\u001b[0m\u001b[1;33m\u001b[0m\u001b[0m\n\u001b[0;32m      5\u001b[0m     \u001b[1;32mfor\u001b[0m \u001b[0mi\u001b[0m\u001b[1;33m,\u001b[0m \u001b[0mrow\u001b[0m \u001b[1;32min\u001b[0m \u001b[0mdf_test\u001b[0m\u001b[1;33m.\u001b[0m\u001b[0miterrows\u001b[0m\u001b[1;33m(\u001b[0m\u001b[1;33m)\u001b[0m\u001b[1;33m:\u001b[0m\u001b[1;33m\u001b[0m\u001b[1;33m\u001b[0m\u001b[0m\n",
      "\u001b[1;31mModuleNotFoundError\u001b[0m: No module named 'gresearch_crypto'"
     ]
    }
   ],
   "source": [
    "import gresearch_crypto\n",
    "env = gresearch_crypto.make_env()\n",
    "iter_test = env.iter_test()\n",
    "for (df_test, sample_prediction_df) in iter_test:\n",
    "    for i, row in df_test.iterrows():\n",
    "        asset_id = row[\"Asset_ID\"]\n",
    "        model = results[asset_id][results[asset_id][\"best_model\"]][\"model\"]\n",
    "        X_test = row.copy()\n",
    "        X_test[\"Upper_Shadow\"] = get_row_upper_shadow(row)\n",
    "        X_test[\"Lower_Shadow\"] = get_row_lower_shadow(row)\n",
    "        X_test = X_test[FEATURES]\n",
    "        y_pred = model.predict(np.array([X_test]))[0]\n",
    "        sample_prediction_df.loc[sample_prediction_df['row_id'] == row['row_id'], 'Target'] = y_pred\n",
    "    env.predict(sample_prediction_df)"
   ]
  },
  {
   "cell_type": "code",
   "execution_count": null,
   "id": "5758bcd6",
   "metadata": {},
   "outputs": [],
   "source": []
  }
 ],
 "metadata": {
  "hide_input": false,
  "kernelspec": {
   "display_name": "Python 3",
   "language": "python",
   "name": "python3"
  },
  "language_info": {
   "codemirror_mode": {
    "name": "ipython",
    "version": 3
   },
   "file_extension": ".py",
   "mimetype": "text/x-python",
   "name": "python",
   "nbconvert_exporter": "python",
   "pygments_lexer": "ipython3",
   "version": "3.8.8"
  },
  "varInspector": {
   "cols": {
    "lenName": 16,
    "lenType": 16,
    "lenVar": 40
   },
   "kernels_config": {
    "python": {
     "delete_cmd_postfix": "",
     "delete_cmd_prefix": "del ",
     "library": "var_list.py",
     "varRefreshCmd": "print(var_dic_list())"
    },
    "r": {
     "delete_cmd_postfix": ") ",
     "delete_cmd_prefix": "rm(",
     "library": "var_list.r",
     "varRefreshCmd": "cat(var_dic_list()) "
    }
   },
   "types_to_exclude": [
    "module",
    "function",
    "builtin_function_or_method",
    "instance",
    "_Feature"
   ],
   "window_display": false
  }
 },
 "nbformat": 4,
 "nbformat_minor": 5
}
